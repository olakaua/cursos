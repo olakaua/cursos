{
 "cells": [
  {
   "cell_type": "markdown",
   "id": "9f312483",
   "metadata": {},
   "source": [
    "# NumPy e Pandas\n",
    "\n",
    "- São **bibliotecas** do Python voltadas para Ciência de Dados\n",
    "<br><br>\n",
    "- O **NumPy** é a principal biblioteca de **computação numérica** do Python, **otimizada para calculos pesados** e serve de **base para o Pandas**\n",
    "    - No NumPy vamos trabalhar com **arrays**, que são estruturas de dados multidimensionais (1D, 2D, 3D,...)\n",
    "    - Os arrays lembram muito as **listas**, porém com algumas diferenças e várias vantagens na questão de processamento \n",
    "<br><br>\n",
    "- O **Pandas** vai ser a biblioteca que vamos utilizar em toda a parte inicial do nosso processo de Ciência de Dados! Além de possuir **alta performance e fácil uso** para trabalharmos com estruturas de dados, possui um **visual muito amigável** ao usuário não técnico\n",
    "    - Os DataFrames do Pandas lembram muito o excel, popularmente conhecido nas empresas\n",
    "    - É usado **desde a importação da base até a criação do modelo**, incluindo a **análise e visualização dos dados, tratamentos, agregações, etc**\n",
    "<br><br>\n",
    "- Exemplo de um DataFrame do Pandas:\n",
    "<img src=\"https://drive.google.com/uc?id=1IXohvu2-EA3QoOFNUB_K9MSIerIwal_B\" style='width: 9000px;' />"
   ]
  },
  {
   "cell_type": "markdown",
   "id": "562bd1e2",
   "metadata": {},
   "source": [
    "- **Podemos começar comparando as funções do Excel com o Pandas**\n",
    " - https://pandas.pydata.org/docs/"
   ]
  },
  {
   "cell_type": "code",
   "execution_count": 2,
   "id": "e9d6f7cd",
   "metadata": {
    "tags": []
   },
   "outputs": [],
   "source": [
    "# Importando o pandas\n",
    "import pandas as pd"
   ]
  },
  {
   "cell_type": "code",
   "execution_count": 8,
   "id": "c323f381",
   "metadata": {},
   "outputs": [],
   "source": [
    "# Lendo uma base no Pandas\n",
    "base = pd.read_excel(r'Pandas x Excel.xlsx')\n",
    "# ou\n",
    "# C:\\Users\\KakaD\\OneDrive\\Documentos\\workspace\\Cursos\\Ciência de Dados Impressionador\\Numpy e Pandas\\Pandas x Excel.xlsx"
   ]
  },
  {
   "cell_type": "code",
   "execution_count": 10,
   "id": "b97c8573",
   "metadata": {},
   "outputs": [
    {
     "data": {
      "text/plain": [
       "Segundos              int64\n",
       "Taxa de retenção    float64\n",
       "Venda $             float64\n",
       "Custo                 int64\n",
       "dtype: object"
      ]
     },
     "execution_count": 10,
     "metadata": {},
     "output_type": "execute_result"
    }
   ],
   "source": [
    "# Verificando o tipo desse dado\n",
    "base.dtypes"
   ]
  },
  {
   "cell_type": "code",
   "execution_count": 11,
   "id": "bc6e3f48",
   "metadata": {},
   "outputs": [
    {
     "data": {
      "text/html": [
       "<div>\n",
       "<style scoped>\n",
       "    .dataframe tbody tr th:only-of-type {\n",
       "        vertical-align: middle;\n",
       "    }\n",
       "\n",
       "    .dataframe tbody tr th {\n",
       "        vertical-align: top;\n",
       "    }\n",
       "\n",
       "    .dataframe thead th {\n",
       "        text-align: right;\n",
       "    }\n",
       "</style>\n",
       "<table border=\"1\" class=\"dataframe\">\n",
       "  <thead>\n",
       "    <tr style=\"text-align: right;\">\n",
       "      <th></th>\n",
       "      <th>Segundos</th>\n",
       "      <th>Taxa de retenção</th>\n",
       "      <th>Venda $</th>\n",
       "      <th>Custo</th>\n",
       "    </tr>\n",
       "  </thead>\n",
       "  <tbody>\n",
       "    <tr>\n",
       "      <th>0</th>\n",
       "      <td>5</td>\n",
       "      <td>1.00</td>\n",
       "      <td>126600.0</td>\n",
       "      <td>20000</td>\n",
       "    </tr>\n",
       "    <tr>\n",
       "      <th>1</th>\n",
       "      <td>8</td>\n",
       "      <td>0.99</td>\n",
       "      <td>200534.4</td>\n",
       "      <td>32000</td>\n",
       "    </tr>\n",
       "    <tr>\n",
       "      <th>2</th>\n",
       "      <td>10</td>\n",
       "      <td>0.99</td>\n",
       "      <td>250668.0</td>\n",
       "      <td>40000</td>\n",
       "    </tr>\n",
       "    <tr>\n",
       "      <th>3</th>\n",
       "      <td>15</td>\n",
       "      <td>0.95</td>\n",
       "      <td>360810.0</td>\n",
       "      <td>60000</td>\n",
       "    </tr>\n",
       "    <tr>\n",
       "      <th>4</th>\n",
       "      <td>21</td>\n",
       "      <td>0.90</td>\n",
       "      <td>478548.0</td>\n",
       "      <td>84000</td>\n",
       "    </tr>\n",
       "    <tr>\n",
       "      <th>5</th>\n",
       "      <td>25</td>\n",
       "      <td>0.90</td>\n",
       "      <td>569700.0</td>\n",
       "      <td>100000</td>\n",
       "    </tr>\n",
       "    <tr>\n",
       "      <th>6</th>\n",
       "      <td>27</td>\n",
       "      <td>0.90</td>\n",
       "      <td>615276.0</td>\n",
       "      <td>108000</td>\n",
       "    </tr>\n",
       "    <tr>\n",
       "      <th>7</th>\n",
       "      <td>29</td>\n",
       "      <td>0.87</td>\n",
       "      <td>638823.6</td>\n",
       "      <td>116000</td>\n",
       "    </tr>\n",
       "    <tr>\n",
       "      <th>8</th>\n",
       "      <td>30</td>\n",
       "      <td>0.87</td>\n",
       "      <td>660852.0</td>\n",
       "      <td>120000</td>\n",
       "    </tr>\n",
       "    <tr>\n",
       "      <th>9</th>\n",
       "      <td>35</td>\n",
       "      <td>0.82</td>\n",
       "      <td>726684.0</td>\n",
       "      <td>140000</td>\n",
       "    </tr>\n",
       "    <tr>\n",
       "      <th>10</th>\n",
       "      <td>37</td>\n",
       "      <td>0.79</td>\n",
       "      <td>740103.6</td>\n",
       "      <td>148000</td>\n",
       "    </tr>\n",
       "    <tr>\n",
       "      <th>11</th>\n",
       "      <td>38</td>\n",
       "      <td>0.79</td>\n",
       "      <td>760106.4</td>\n",
       "      <td>152000</td>\n",
       "    </tr>\n",
       "    <tr>\n",
       "      <th>12</th>\n",
       "      <td>40</td>\n",
       "      <td>0.79</td>\n",
       "      <td>800112.0</td>\n",
       "      <td>160000</td>\n",
       "    </tr>\n",
       "    <tr>\n",
       "      <th>13</th>\n",
       "      <td>45</td>\n",
       "      <td>0.68</td>\n",
       "      <td>774792.0</td>\n",
       "      <td>180000</td>\n",
       "    </tr>\n",
       "    <tr>\n",
       "      <th>14</th>\n",
       "      <td>60</td>\n",
       "      <td>0.55</td>\n",
       "      <td>835560.0</td>\n",
       "      <td>240000</td>\n",
       "    </tr>\n",
       "    <tr>\n",
       "      <th>15</th>\n",
       "      <td>62</td>\n",
       "      <td>0.43</td>\n",
       "      <td>675031.2</td>\n",
       "      <td>248000</td>\n",
       "    </tr>\n",
       "    <tr>\n",
       "      <th>16</th>\n",
       "      <td>67</td>\n",
       "      <td>0.39</td>\n",
       "      <td>661611.6</td>\n",
       "      <td>268000</td>\n",
       "    </tr>\n",
       "    <tr>\n",
       "      <th>17</th>\n",
       "      <td>71</td>\n",
       "      <td>0.31</td>\n",
       "      <td>557293.2</td>\n",
       "      <td>284000</td>\n",
       "    </tr>\n",
       "    <tr>\n",
       "      <th>18</th>\n",
       "      <td>83</td>\n",
       "      <td>0.25</td>\n",
       "      <td>525390.0</td>\n",
       "      <td>332000</td>\n",
       "    </tr>\n",
       "    <tr>\n",
       "      <th>19</th>\n",
       "      <td>85</td>\n",
       "      <td>0.24</td>\n",
       "      <td>516528.0</td>\n",
       "      <td>340000</td>\n",
       "    </tr>\n",
       "    <tr>\n",
       "      <th>20</th>\n",
       "      <td>90</td>\n",
       "      <td>0.24</td>\n",
       "      <td>546912.0</td>\n",
       "      <td>360000</td>\n",
       "    </tr>\n",
       "  </tbody>\n",
       "</table>\n",
       "</div>"
      ],
      "text/plain": [
       "    Segundos  Taxa de retenção   Venda $   Custo\n",
       "0          5              1.00  126600.0   20000\n",
       "1          8              0.99  200534.4   32000\n",
       "2         10              0.99  250668.0   40000\n",
       "3         15              0.95  360810.0   60000\n",
       "4         21              0.90  478548.0   84000\n",
       "5         25              0.90  569700.0  100000\n",
       "6         27              0.90  615276.0  108000\n",
       "7         29              0.87  638823.6  116000\n",
       "8         30              0.87  660852.0  120000\n",
       "9         35              0.82  726684.0  140000\n",
       "10        37              0.79  740103.6  148000\n",
       "11        38              0.79  760106.4  152000\n",
       "12        40              0.79  800112.0  160000\n",
       "13        45              0.68  774792.0  180000\n",
       "14        60              0.55  835560.0  240000\n",
       "15        62              0.43  675031.2  248000\n",
       "16        67              0.39  661611.6  268000\n",
       "17        71              0.31  557293.2  284000\n",
       "18        83              0.25  525390.0  332000\n",
       "19        85              0.24  516528.0  340000\n",
       "20        90              0.24  546912.0  360000"
      ]
     },
     "execution_count": 11,
     "metadata": {},
     "output_type": "execute_result"
    }
   ],
   "source": [
    "# Visualizando a base\n",
    "base"
   ]
  },
  {
   "cell_type": "code",
   "execution_count": 13,
   "id": "97d85714",
   "metadata": {},
   "outputs": [
    {
     "data": {
      "text/html": [
       "<div>\n",
       "<style scoped>\n",
       "    .dataframe tbody tr th:only-of-type {\n",
       "        vertical-align: middle;\n",
       "    }\n",
       "\n",
       "    .dataframe tbody tr th {\n",
       "        vertical-align: top;\n",
       "    }\n",
       "\n",
       "    .dataframe thead th {\n",
       "        text-align: right;\n",
       "    }\n",
       "</style>\n",
       "<table border=\"1\" class=\"dataframe\">\n",
       "  <thead>\n",
       "    <tr style=\"text-align: right;\">\n",
       "      <th></th>\n",
       "      <th>Segundos</th>\n",
       "      <th>Taxa de retenção</th>\n",
       "      <th>Venda $</th>\n",
       "      <th>Custo</th>\n",
       "    </tr>\n",
       "  </thead>\n",
       "  <tbody>\n",
       "    <tr>\n",
       "      <th>0</th>\n",
       "      <td>5</td>\n",
       "      <td>1.00</td>\n",
       "      <td>126600.0</td>\n",
       "      <td>20000</td>\n",
       "    </tr>\n",
       "    <tr>\n",
       "      <th>1</th>\n",
       "      <td>8</td>\n",
       "      <td>0.99</td>\n",
       "      <td>200534.4</td>\n",
       "      <td>32000</td>\n",
       "    </tr>\n",
       "    <tr>\n",
       "      <th>2</th>\n",
       "      <td>10</td>\n",
       "      <td>0.99</td>\n",
       "      <td>250668.0</td>\n",
       "      <td>40000</td>\n",
       "    </tr>\n",
       "    <tr>\n",
       "      <th>3</th>\n",
       "      <td>15</td>\n",
       "      <td>0.95</td>\n",
       "      <td>360810.0</td>\n",
       "      <td>60000</td>\n",
       "    </tr>\n",
       "    <tr>\n",
       "      <th>4</th>\n",
       "      <td>21</td>\n",
       "      <td>0.90</td>\n",
       "      <td>478548.0</td>\n",
       "      <td>84000</td>\n",
       "    </tr>\n",
       "  </tbody>\n",
       "</table>\n",
       "</div>"
      ],
      "text/plain": [
       "   Segundos  Taxa de retenção   Venda $  Custo\n",
       "0         5              1.00  126600.0  20000\n",
       "1         8              0.99  200534.4  32000\n",
       "2        10              0.99  250668.0  40000\n",
       "3        15              0.95  360810.0  60000\n",
       "4        21              0.90  478548.0  84000"
      ]
     },
     "execution_count": 13,
     "metadata": {},
     "output_type": "execute_result"
    }
   ],
   "source": [
    "# Visualizando apenas as 5 primeiras linhas\n",
    "base.head()\n",
    "# base.tail() pega os 5 últimos"
   ]
  },
  {
   "cell_type": "code",
   "execution_count": 15,
   "id": "70c106ec",
   "metadata": {},
   "outputs": [
    {
     "name": "stdout",
     "output_type": "stream",
     "text": [
      "<class 'pandas.core.frame.DataFrame'>\n",
      "RangeIndex: 21 entries, 0 to 20\n",
      "Data columns (total 4 columns):\n",
      " #   Column            Non-Null Count  Dtype  \n",
      "---  ------            --------------  -----  \n",
      " 0   Segundos          21 non-null     int64  \n",
      " 1   Taxa de retenção  21 non-null     float64\n",
      " 2   Venda $           21 non-null     float64\n",
      " 3   Custo             21 non-null     int64  \n",
      "dtypes: float64(2), int64(2)\n",
      "memory usage: 804.0 bytes\n"
     ]
    }
   ],
   "source": [
    "# Verificando o tipo de dado em cada uma das colunas\n",
    "base.info()"
   ]
  },
  {
   "cell_type": "code",
   "execution_count": 17,
   "id": "bcc8b011",
   "metadata": {},
   "outputs": [
    {
     "data": {
      "text/html": [
       "<div>\n",
       "<style scoped>\n",
       "    .dataframe tbody tr th:only-of-type {\n",
       "        vertical-align: middle;\n",
       "    }\n",
       "\n",
       "    .dataframe tbody tr th {\n",
       "        vertical-align: top;\n",
       "    }\n",
       "\n",
       "    .dataframe thead th {\n",
       "        text-align: right;\n",
       "    }\n",
       "</style>\n",
       "<table border=\"1\" class=\"dataframe\">\n",
       "  <thead>\n",
       "    <tr style=\"text-align: right;\">\n",
       "      <th></th>\n",
       "      <th>Segundos</th>\n",
       "      <th>Taxa de retenção</th>\n",
       "      <th>Venda $</th>\n",
       "      <th>Custo</th>\n",
       "    </tr>\n",
       "  </thead>\n",
       "  <tbody>\n",
       "    <tr>\n",
       "      <th>12</th>\n",
       "      <td>40</td>\n",
       "      <td>0.79</td>\n",
       "      <td>800112.0</td>\n",
       "      <td>160000</td>\n",
       "    </tr>\n",
       "    <tr>\n",
       "      <th>14</th>\n",
       "      <td>60</td>\n",
       "      <td>0.55</td>\n",
       "      <td>835560.0</td>\n",
       "      <td>240000</td>\n",
       "    </tr>\n",
       "  </tbody>\n",
       "</table>\n",
       "</div>"
      ],
      "text/plain": [
       "    Segundos  Taxa de retenção   Venda $   Custo\n",
       "12        40              0.79  800112.0  160000\n",
       "14        60              0.55  835560.0  240000"
      ]
     },
     "execution_count": 17,
     "metadata": {},
     "output_type": "execute_result"
    }
   ],
   "source": [
    "# Filtrando apenas valores de venda maiores que 80.000\n",
    "base[base['Venda $'] > 800000]"
   ]
  },
  {
   "cell_type": "code",
   "execution_count": 19,
   "id": "653f9849",
   "metadata": {},
   "outputs": [
    {
     "data": {
      "image/png": "[encoded data removed]",
      "text/plain": [
       "<Figure size 640x480 with 1 Axes>"
      ]
     },
     "metadata": {},
     "output_type": "display_data"
    }
   ],
   "source": [
    "# Visualizando graficamente a relação entre segundos de tela e Venda $\n",
    "base.plot.scatter(x='Segundos',y='Venda $');"
   ]
  },
  {
   "cell_type": "code",
   "execution_count": 23,
   "id": "15f80b2b",
   "metadata": {},
   "outputs": [
    {
     "data": {
      "text/plain": [
       "572473.1428571427"
      ]
     },
     "execution_count": 23,
     "metadata": {},
     "output_type": "execute_result"
    }
   ],
   "source": [
    "# Visualizando a média da venda\n",
    "base['Venda $'].mean()"
   ]
  }
 ],
 "metadata": {
  "kernelspec": {
   "display_name": "Python 3 (ipykernel)",
   "language": "python",
   "name": "python3"
  },
  "language_info": {
   "codemirror_mode": {
    "name": "ipython",
    "version": 3
   },
   "file_extension": ".py",
   "mimetype": "text/x-python",
   "name": "python",
   "nbconvert_exporter": "python",
   "pygments_lexer": "ipython3",
   "version": "3.11.4"
  }
 },
 "nbformat": 4,
 "nbformat_minor": 5
}
