{
 "cells": [
  {
   "cell_type": "markdown",
   "id": "dc10ace6",
   "metadata": {},
   "source": [
    "# NumPy\n",
    "\n",
    "- https://numpy.org/\n",
    "- O nome NumPy vem de Numerical Python\n",
    "    - Biblioteca de computação numérica\n",
    "    - Otimizada para cálculos pesados\n",
    "<br><br>\n",
    "- No NumPy vamos trabalhar com **arrays**, que são mais rápidos e mais performáticos que listas\n",
    "    - Arrays são estruturas de dados que guardam itens **do mesmo tipo** (diferente das listas)\n",
    "        - **[\"As operações matemáticas que devem ser executadas em arrays seriam extremamente ineficientes se os arrays não fossem homogêneos.\"](https://numpy.org/doc/stable/user/absolute_beginners.html#whats-the-difference-between-a-python-list-and-a-numpy-array)** \n",
    "    - Assim como **listas**, são um conjunto de **elementos ordenados que são mutáveis e de comprimento variável**\n",
    "    - Além disso, **podemos fazer várias operações com arrays (como multiplicação e soma) que não podem ser feitas com listas** mas são fundamentais para o nosso processo de Ciência de dados\n",
    "    - Obs: listas são estrutudas de dados do Python e arrays não, **array é uma estrutura de dados própria do numpy**"
   ]
  },
  {
   "cell_type": "code",
   "execution_count": 9,
   "id": "912fefed",
   "metadata": {
    "tags": []
   },
   "outputs": [],
   "source": [
    "# Importar o numpy\n",
    "import numpy as np"
   ]
  },
  {
   "cell_type": "markdown",
   "id": "8d7fdc00",
   "metadata": {},
   "source": [
    "- **A importância do NumPy**\n",
    "    - Vamos supor que temos a venda e comissão (em percentual) de 5 vendedores e queremos saber qual vai ser o salário de cada um deles (para isso precisamos multiplicar a venda pela comissão dividida por 100)"
   ]
  },
  {
   "cell_type": "code",
   "execution_count": 10,
   "id": "2c9c67ac",
   "metadata": {
    "tags": []
   },
   "outputs": [],
   "source": [
    "# Venda e comissão\n",
    "venda_valor = [150000,230000,82000,143000,184000]\n",
    "comissao = [5,8,8,5,12]"
   ]
  },
  {
   "cell_type": "code",
   "execution_count": 11,
   "id": "c0feb782",
   "metadata": {
    "tags": []
   },
   "outputs": [
    {
     "data": {
      "text/plain": [
       "list"
      ]
     },
     "execution_count": 11,
     "metadata": {},
     "output_type": "execute_result"
    }
   ],
   "source": [
    "type(venda_valor)\n",
    "type(comissao)"
   ]
  },
  {
   "cell_type": "code",
   "execution_count": 12,
   "id": "df4ff84d",
   "metadata": {
    "tags": []
   },
   "outputs": [
    {
     "ename": "TypeError",
     "evalue": "unsupported operand type(s) for /: 'list' and 'int'",
     "output_type": "error",
     "traceback": [
      "\u001b[1;31m---------------------------------------------------------------------------\u001b[0m",
      "\u001b[1;31mTypeError\u001b[0m                                 Traceback (most recent call last)",
      "Cell \u001b[1;32mIn[12], line 2\u001b[0m\n\u001b[0;32m      1\u001b[0m \u001b[38;5;66;03m# Ao tentar fazer essa operação com listas, teremos um erro\u001b[39;00m\n\u001b[1;32m----> 2\u001b[0m \u001b[43mcomissao\u001b[49m\u001b[38;5;241;43m/\u001b[39;49m\u001b[38;5;241;43m100\u001b[39;49m\n",
      "\u001b[1;31mTypeError\u001b[0m: unsupported operand type(s) for /: 'list' and 'int'"
     ]
    }
   ],
   "source": [
    "# Ao tentar fazer essa operação com listas, teremos um erro\n",
    "comissao/100"
   ]
  },
  {
   "cell_type": "markdown",
   "id": "13fb5552",
   "metadata": {},
   "source": [
    "- **Podemos transformar uma lista em um array**\n",
    "    - https://numpy.org/doc/stable/user/basics.creation.html#converting-python-sequences-to-numpy-arrays"
   ]
  },
  {
   "cell_type": "code",
   "execution_count": 13,
   "id": "426fa099",
   "metadata": {
    "tags": []
   },
   "outputs": [],
   "source": [
    "# Transformando em um array\n",
    "venda_valor_array = np.array(venda_valor)\n",
    "comissao_array = np.array(comissao)"
   ]
  },
  {
   "cell_type": "code",
   "execution_count": 14,
   "id": "86546209",
   "metadata": {
    "tags": []
   },
   "outputs": [
    {
     "data": {
      "text/plain": [
       "array([ 7500., 18400.,  6560.,  7150., 22080.])"
      ]
     },
     "execution_count": 14,
     "metadata": {},
     "output_type": "execute_result"
    }
   ],
   "source": [
    "# Agora vamos conseguir fazer sendo um array\n",
    "comissao_array*(venda_valor_array/100)"
   ]
  },
  {
   "cell_type": "markdown",
   "id": "4e42c357",
   "metadata": {},
   "source": [
    "- **Agora que vimos a importância do array, podemos falar um pouco mais sobre ele**\n",
    "    - https://numpy.org/doc/stable/user/quickstart.html"
   ]
  },
  {
   "cell_type": "code",
   "execution_count": 15,
   "id": "1af5ac8b",
   "metadata": {
    "tags": []
   },
   "outputs": [],
   "source": [
    "# Copiando o exemplo\n",
    "a = np.arange(15).reshape(3,5) # cria uma matriz de 15 numeros de 3 linha e 5 colunas"
   ]
  },
  {
   "cell_type": "code",
   "execution_count": 16,
   "id": "3e74b970-6d5a-4129-899d-5b8158591fb2",
   "metadata": {
    "tags": []
   },
   "outputs": [
    {
     "data": {
      "text/plain": [
       "array([[ 0,  1,  2,  3,  4],\n",
       "       [ 5,  6,  7,  8,  9],\n",
       "       [10, 11, 12, 13, 14]])"
      ]
     },
     "execution_count": 16,
     "metadata": {},
     "output_type": "execute_result"
    }
   ],
   "source": [
    "a"
   ]
  },
  {
   "cell_type": "code",
   "execution_count": 18,
   "id": "9a62ccfb-cb18-49ee-962d-1ad916411975",
   "metadata": {
    "tags": []
   },
   "outputs": [
    {
     "data": {
      "text/plain": [
       "array([2, 4, 6, 8])"
      ]
     },
     "execution_count": 18,
     "metadata": {},
     "output_type": "execute_result"
    }
   ],
   "source": [
    "np.arange(2,7) # Cria uma sequencia de 2 a 6\n",
    "np.arange(2) # Cria uma sequencia de 2 numeros\n",
    "np.arange(2,10,2) # Cria uma sequencia do 2 ao 9 de 2 em 2"
   ]
  },
  {
   "cell_type": "code",
   "execution_count": 19,
   "id": "852de354-ede3-4bf9-9a98-a97cc58f1220",
   "metadata": {
    "tags": []
   },
   "outputs": [
    {
     "data": {
      "text/plain": [
       "array([[1, 2, 3],\n",
       "       [4, 5, 6]])"
      ]
     },
     "execution_count": 19,
     "metadata": {},
     "output_type": "execute_result"
    }
   ],
   "source": [
    "np.array([[1,2,3],[4,5,6]]) # Cria uma matriz"
   ]
  },
  {
   "cell_type": "code",
   "execution_count": 20,
   "id": "80e26eb6-743a-40cf-bc0b-6db07dd8a078",
   "metadata": {
    "tags": []
   },
   "outputs": [
    {
     "data": {
      "text/plain": [
       "array([[1, 2, 3],\n",
       "       [4, 5, 6]])"
      ]
     },
     "execution_count": 20,
     "metadata": {},
     "output_type": "execute_result"
    }
   ],
   "source": [
    "np.arange(1,7).reshape(2,3) # pega os numeros de 1 a 6 e transforma em 2 linhas com 3 numeros"
   ]
  },
  {
   "cell_type": "code",
   "execution_count": 21,
   "id": "3cfd5605",
   "metadata": {
    "tags": []
   },
   "outputs": [
    {
     "data": {
      "text/plain": [
       "2"
      ]
     },
     "execution_count": 21,
     "metadata": {},
     "output_type": "execute_result"
    }
   ],
   "source": [
    "# Verificando a dimensão desse array\n",
    "a.ndim"
   ]
  },
  {
   "cell_type": "code",
   "execution_count": 22,
   "id": "15346362",
   "metadata": {
    "tags": []
   },
   "outputs": [
    {
     "data": {
      "text/plain": [
       "(3, 5)"
      ]
     },
     "execution_count": 22,
     "metadata": {},
     "output_type": "execute_result"
    }
   ],
   "source": [
    "# Verificando a forma do array\n",
    "a.shape #numero de linhas e colunas"
   ]
  },
  {
   "cell_type": "code",
   "execution_count": 23,
   "id": "cc4b8c49",
   "metadata": {
    "tags": []
   },
   "outputs": [
    {
     "data": {
      "text/plain": [
       "dtype('int32')"
      ]
     },
     "execution_count": 23,
     "metadata": {},
     "output_type": "execute_result"
    }
   ],
   "source": [
    "# Verificando o tipo dos dados\n",
    "a.dtype"
   ]
  },
  {
   "cell_type": "markdown",
   "id": "d9595a6f",
   "metadata": {},
   "source": [
    "- Primeiro tente responder o tipo de dado dos 3 arrays abaixo e depois escreva o código para o numpy retornar essa informação"
   ]
  },
  {
   "cell_type": "code",
   "execution_count": 24,
   "id": "505b6ead",
   "metadata": {
    "tags": []
   },
   "outputs": [],
   "source": [
    "# Considerando os 3 arrays abaixo\n",
    "array1 = np.array([1,2,3,4,5])\n",
    "array2 = np.array([1,2,3,4.5,5])\n",
    "array3 = np.array([1,2,3,'4',5])"
   ]
  },
  {
   "cell_type": "code",
   "execution_count": 25,
   "id": "279d8184",
   "metadata": {
    "tags": []
   },
   "outputs": [
    {
     "data": {
      "text/plain": [
       "dtype('int32')"
      ]
     },
     "execution_count": 25,
     "metadata": {},
     "output_type": "execute_result"
    }
   ],
   "source": [
    "# Verificando o tipo de dado do primeiro array e retornando esse array\n",
    "array1.dtype"
   ]
  },
  {
   "cell_type": "code",
   "execution_count": 26,
   "id": "2b6b82b3",
   "metadata": {
    "tags": []
   },
   "outputs": [
    {
     "data": {
      "text/plain": [
       "dtype('float64')"
      ]
     },
     "execution_count": 26,
     "metadata": {},
     "output_type": "execute_result"
    }
   ],
   "source": [
    "# Fazendo a mesma coisa para o array2\n",
    "array2.dtype"
   ]
  },
  {
   "cell_type": "code",
   "execution_count": 27,
   "id": "eb88bf43",
   "metadata": {
    "tags": []
   },
   "outputs": [
    {
     "data": {
      "text/plain": [
       "dtype('<U11')"
      ]
     },
     "execution_count": 27,
     "metadata": {},
     "output_type": "execute_result"
    }
   ],
   "source": [
    "# E para o array3\n",
    "array3.dtype"
   ]
  },
  {
   "cell_type": "markdown",
   "id": "bde43ee3",
   "metadata": {},
   "source": [
    "- **Criando o nosso próprio array**"
   ]
  },
  {
   "cell_type": "code",
   "execution_count": 28,
   "id": "cdeaf7eb",
   "metadata": {},
   "outputs": [
    {
     "data": {
      "text/plain": [
       "array([1, 2, 3, 4, 5])"
      ]
     },
     "execution_count": 28,
     "metadata": {},
     "output_type": "execute_result"
    }
   ],
   "source": [
    "# Criando um array qualquer de números inteiros\n",
    "\n",
    "a = np.array([1,2,3,4,5])\n",
    "a "
   ]
  },
  {
   "cell_type": "code",
   "execution_count": 29,
   "id": "eadadfc2",
   "metadata": {},
   "outputs": [
    {
     "data": {
      "text/plain": [
       "array([1.5, 3. , 4.5, 6. ])"
      ]
     },
     "execution_count": 29,
     "metadata": {},
     "output_type": "execute_result"
    }
   ],
   "source": [
    "# Criando um segundo array com valores decimais\n",
    "\n",
    "b = np.array([1.5,3,4.5,6])\n",
    "b"
   ]
  },
  {
   "cell_type": "code",
   "execution_count": 65,
   "id": "8854c263",
   "metadata": {},
   "outputs": [
    {
     "data": {
      "text/plain": [
       "array([[0., 0., 0., 0.],\n",
       "       [0., 0., 0., 0.]])"
      ]
     },
     "execution_count": 65,
     "metadata": {},
     "output_type": "execute_result"
    }
   ],
   "source": [
    "# Criando um array apenas de valores zero\n",
    "np.zeros(8).reshape(2,4)"
   ]
  },
  {
   "cell_type": "code",
   "execution_count": 31,
   "id": "03fbc998",
   "metadata": {},
   "outputs": [
    {
     "data": {
      "text/plain": [
       "array([  0,   1,   2,   3,   4,   5,   6,   7,   8,   9,  10,  11,  12,\n",
       "        13,  14,  15,  16,  17,  18,  19,  20,  21,  22,  23,  24,  25,\n",
       "        26,  27,  28,  29,  30,  31,  32,  33,  34,  35,  36,  37,  38,\n",
       "        39,  40,  41,  42,  43,  44,  45,  46,  47,  48,  49,  50,  51,\n",
       "        52,  53,  54,  55,  56,  57,  58,  59,  60,  61,  62,  63,  64,\n",
       "        65,  66,  67,  68,  69,  70,  71,  72,  73,  74,  75,  76,  77,\n",
       "        78,  79,  80,  81,  82,  83,  84,  85,  86,  87,  88,  89,  90,\n",
       "        91,  92,  93,  94,  95,  96,  97,  98,  99, 100])"
      ]
     },
     "execution_count": 31,
     "metadata": {},
     "output_type": "execute_result"
    }
   ],
   "source": [
    "# Criando um array com uma lista de valores\n",
    "np.arange(101)"
   ]
  },
  {
   "cell_type": "code",
   "execution_count": 32,
   "id": "353818b5",
   "metadata": {},
   "outputs": [
    {
     "data": {
      "text/plain": [
       "array([15, 16, 17, 18, 19, 20, 21, 22, 23, 24, 25])"
      ]
     },
     "execution_count": 32,
     "metadata": {},
     "output_type": "execute_result"
    }
   ],
   "source": [
    "# Adicionando um intervalo para o array\n",
    "\n",
    "np.arange(15,26)"
   ]
  },
  {
   "cell_type": "code",
   "execution_count": 33,
   "id": "e25b2875",
   "metadata": {},
   "outputs": [
    {
     "data": {
      "text/plain": [
       "array([ 5, 10, 15, 20, 25])"
      ]
     },
     "execution_count": 33,
     "metadata": {},
     "output_type": "execute_result"
    }
   ],
   "source": [
    "# Adicionando um \"passo\" para o array\n",
    "np.arange(5, 26, 5)"
   ]
  },
  {
   "cell_type": "code",
   "execution_count": 66,
   "id": "b53abbde",
   "metadata": {},
   "outputs": [
    {
     "data": {
      "text/plain": [
       "array([ 5.        ,  5.55555556,  6.11111111,  6.66666667,  7.22222222,\n",
       "        7.77777778,  8.33333333,  8.88888889,  9.44444444, 10.        ])"
      ]
     },
     "execution_count": 66,
     "metadata": {},
     "output_type": "execute_result"
    }
   ],
   "source": [
    "# Criando um novo array com os valores igualmente espaçados (utilizando o linspace)\n",
    "np.linspace(5, 10, 10)"
   ]
  },
  {
   "cell_type": "markdown",
   "id": "87dae9c0",
   "metadata": {},
   "source": [
    "- O array de uma dimensão é o que chamamos de vetor e o de duas dimensões de matriz"
   ]
  },
  {
   "cell_type": "code",
   "execution_count": 35,
   "id": "8b833b89",
   "metadata": {},
   "outputs": [],
   "source": [
    "# Vamos considerar esses dados abaixo\n",
    "dados_venda = np.array([[150000,230000,82000,143000,184000],[5,8,8,5,12]])"
   ]
  },
  {
   "cell_type": "code",
   "execution_count": 36,
   "id": "4063a232",
   "metadata": {},
   "outputs": [
    {
     "data": {
      "text/plain": [
       "(2, 5)"
      ]
     },
     "execution_count": 36,
     "metadata": {},
     "output_type": "execute_result"
    }
   ],
   "source": [
    "# Verificando a forma do array\n",
    "dados_venda.shape"
   ]
  },
  {
   "cell_type": "code",
   "execution_count": 37,
   "id": "e22463f3",
   "metadata": {},
   "outputs": [
    {
     "data": {
      "text/plain": [
       "dtype('int32')"
      ]
     },
     "execution_count": 37,
     "metadata": {},
     "output_type": "execute_result"
    }
   ],
   "source": [
    "# Verificando o tipo dos dados\n",
    "dados_venda.dtype"
   ]
  },
  {
   "cell_type": "code",
   "execution_count": 38,
   "id": "daf0fe90",
   "metadata": {},
   "outputs": [],
   "source": [
    "# Agora considerando esses novos dados\n",
    "dados_venda = np.array([['Lucas','Bia','Jean','Gabi','Pedro'],[150000,230000,82000,143000,184000]])"
   ]
  },
  {
   "cell_type": "code",
   "execution_count": 39,
   "id": "3c0db960",
   "metadata": {},
   "outputs": [
    {
     "data": {
      "text/plain": [
       "(2, 5)"
      ]
     },
     "execution_count": 39,
     "metadata": {},
     "output_type": "execute_result"
    }
   ],
   "source": [
    "# Verificando a forma do array\n",
    "dados_venda.shape"
   ]
  },
  {
   "cell_type": "code",
   "execution_count": 40,
   "id": "4a44a4f0",
   "metadata": {},
   "outputs": [
    {
     "data": {
      "text/plain": [
       "dtype('<U11')"
      ]
     },
     "execution_count": 40,
     "metadata": {},
     "output_type": "execute_result"
    }
   ],
   "source": [
    "# Verificando o tipo dos dados\n",
    "dados_venda.dtype"
   ]
  },
  {
   "cell_type": "markdown",
   "id": "0b678ea9",
   "metadata": {},
   "source": [
    "- **Assim como listas, também podemos buscar elementos no array utilizando seus índices**\n",
    "    - https://numpy.org/doc/stable/user/basics.indexing.html"
   ]
  },
  {
   "cell_type": "code",
   "execution_count": 41,
   "id": "98395080",
   "metadata": {},
   "outputs": [
    {
     "data": {
      "text/plain": [
       "array([[ 0,  1,  2,  3,  4],\n",
       "       [ 5,  6,  7,  8,  9],\n",
       "       [10, 11, 12, 13, 14]])"
      ]
     },
     "execution_count": 41,
     "metadata": {},
     "output_type": "execute_result"
    }
   ],
   "source": [
    "# Utilizando o mesmo array do exemplo\n",
    "a = np.arange(15).reshape(3, 5)\n",
    "a"
   ]
  },
  {
   "cell_type": "code",
   "execution_count": 42,
   "id": "52f6d79d",
   "metadata": {},
   "outputs": [
    {
     "data": {
      "text/plain": [
       "array([0, 1, 2, 3, 4])"
      ]
     },
     "execution_count": 42,
     "metadata": {},
     "output_type": "execute_result"
    }
   ],
   "source": [
    "# Buscando a primeira linha\n",
    "a[0]"
   ]
  },
  {
   "cell_type": "code",
   "execution_count": 67,
   "id": "cc365cc2",
   "metadata": {},
   "outputs": [
    {
     "data": {
      "text/plain": [
       "3"
      ]
     },
     "execution_count": 67,
     "metadata": {},
     "output_type": "execute_result"
    }
   ],
   "source": [
    "# Na primeira linha, buscando o elemento de índice 3\n",
    "a[0][3]"
   ]
  },
  {
   "cell_type": "code",
   "execution_count": 44,
   "id": "3d5d4bf5",
   "metadata": {},
   "outputs": [
    {
     "data": {
      "text/plain": [
       "array([1, 2, 3])"
      ]
     },
     "execution_count": 44,
     "metadata": {},
     "output_type": "execute_result"
    }
   ],
   "source": [
    "# Buscando os elementos de índice 1 a 3 (incluindo o 3) na primeira linha\n",
    "a[0][1:4]"
   ]
  },
  {
   "cell_type": "code",
   "execution_count": 45,
   "id": "31e2b18b",
   "metadata": {},
   "outputs": [
    {
     "data": {
      "text/plain": [
       "array([ 6,  7,  8,  9, 10, 11, 12, 13, 14])"
      ]
     },
     "execution_count": 45,
     "metadata": {},
     "output_type": "execute_result"
    }
   ],
   "source": [
    "# Buscando apenas os valores maiores que 5\n",
    "a[a > 5]"
   ]
  },
  {
   "cell_type": "code",
   "execution_count": 46,
   "id": "e51e84f7",
   "metadata": {},
   "outputs": [
    {
     "data": {
      "text/plain": [
       "array([ 6,  7,  8,  9, 10])"
      ]
     },
     "execution_count": 46,
     "metadata": {},
     "output_type": "execute_result"
    }
   ],
   "source": [
    "# Buscando valores maiores que 5 E (&) menores que 11\n",
    "a[(5 < a) & (a < 11)]"
   ]
  },
  {
   "cell_type": "code",
   "execution_count": 47,
   "id": "74ecf397",
   "metadata": {},
   "outputs": [
    {
     "data": {
      "text/plain": [
       "array([[ 0,  1,  2,  3,  4],\n",
       "       [ 5,  6,  7,  8,  9],\n",
       "       [10, 11, 12, 13, 14]])"
      ]
     },
     "execution_count": 47,
     "metadata": {},
     "output_type": "execute_result"
    }
   ],
   "source": [
    "# Visualizando o array\n",
    "a"
   ]
  },
  {
   "cell_type": "markdown",
   "id": "f9cf5c1f",
   "metadata": {},
   "source": [
    "- **Operações com array**\n",
    "    - https://numpy.org/doc/stable/user/absolute_beginners.html#basic-array-operations"
   ]
  },
  {
   "cell_type": "code",
   "execution_count": 48,
   "id": "877bd0a1",
   "metadata": {},
   "outputs": [
    {
     "data": {
      "text/plain": [
       "array([[0, 1, 2],\n",
       "       [3, 4, 5]])"
      ]
     },
     "execution_count": 48,
     "metadata": {},
     "output_type": "execute_result"
    }
   ],
   "source": [
    "# Considerando o array abaixo\n",
    "dados = np.arange(6).reshape(2, 3)\n",
    "dados"
   ]
  },
  {
   "cell_type": "code",
   "execution_count": 49,
   "id": "c93c8309",
   "metadata": {},
   "outputs": [
    {
     "data": {
      "text/plain": [
       "15"
      ]
     },
     "execution_count": 49,
     "metadata": {},
     "output_type": "execute_result"
    }
   ],
   "source": [
    "# Somando todos os valores\n",
    "dados.sum()"
   ]
  },
  {
   "cell_type": "code",
   "execution_count": 69,
   "id": "36b2d741",
   "metadata": {},
   "outputs": [
    {
     "data": {
      "text/plain": [
       "array([ 3, 12])"
      ]
     },
     "execution_count": 69,
     "metadata": {},
     "output_type": "execute_result"
    }
   ],
   "source": [
    "# Somando apenas os valores da linha\n",
    "dados.sum(axis = 1)"
   ]
  },
  {
   "cell_type": "code",
   "execution_count": 51,
   "id": "99cc3a75",
   "metadata": {},
   "outputs": [
    {
     "data": {
      "text/plain": [
       "array([[ 0,  1,  3],\n",
       "       [ 3,  7, 12]])"
      ]
     },
     "execution_count": 51,
     "metadata": {},
     "output_type": "execute_result"
    }
   ],
   "source": [
    "# Fazendo a soma acumulada desses valores\n",
    "dados.cumsum(axis = 1)"
   ]
  },
  {
   "cell_type": "code",
   "execution_count": 52,
   "id": "328b7f51",
   "metadata": {},
   "outputs": [
    {
     "data": {
      "text/plain": [
       "array([3, 5, 7])"
      ]
     },
     "execution_count": 52,
     "metadata": {},
     "output_type": "execute_result"
    }
   ],
   "source": [
    "# Somando apenas os valores da coluna\n",
    "dados.sum(axis = 0)"
   ]
  },
  {
   "cell_type": "code",
   "execution_count": 53,
   "id": "7dc26ead",
   "metadata": {},
   "outputs": [
    {
     "data": {
      "text/plain": [
       "array([[1, 2, 3],\n",
       "       [4, 5, 6]])"
      ]
     },
     "execution_count": 53,
     "metadata": {},
     "output_type": "execute_result"
    }
   ],
   "source": [
    "# Somando 1 em todos os valores\n",
    "dados + 1"
   ]
  },
  {
   "cell_type": "code",
   "execution_count": 54,
   "id": "f8d8dbb3",
   "metadata": {},
   "outputs": [
    {
     "data": {
      "text/plain": [
       "array([[ 0,  2,  4],\n",
       "       [ 6,  8, 10]])"
      ]
     },
     "execution_count": 54,
     "metadata": {},
     "output_type": "execute_result"
    }
   ],
   "source": [
    "# Multiplicando 2 em todos os valores do array\n",
    "dados * 2"
   ]
  },
  {
   "cell_type": "code",
   "execution_count": 55,
   "id": "fc21b3b0",
   "metadata": {},
   "outputs": [
    {
     "data": {
      "text/plain": [
       "0"
      ]
     },
     "execution_count": 55,
     "metadata": {},
     "output_type": "execute_result"
    }
   ],
   "source": [
    "# Verificando o menor valor desse array\n",
    "dados.min()"
   ]
  },
  {
   "cell_type": "code",
   "execution_count": 56,
   "id": "ac7fb5ce",
   "metadata": {},
   "outputs": [
    {
     "data": {
      "text/plain": [
       "5"
      ]
     },
     "execution_count": 56,
     "metadata": {},
     "output_type": "execute_result"
    }
   ],
   "source": [
    "# E agora o maior valor\n",
    "dados.max()"
   ]
  },
  {
   "cell_type": "code",
   "execution_count": 72,
   "id": "96daf569",
   "metadata": {},
   "outputs": [
    {
     "data": {
      "text/plain": [
       "1.0"
      ]
     },
     "execution_count": 72,
     "metadata": {},
     "output_type": "execute_result"
    }
   ],
   "source": [
    "# Calculando a média da primeira linha\n",
    "dados[0].mean()"
   ]
  },
  {
   "cell_type": "code",
   "execution_count": 58,
   "id": "eeedec68",
   "metadata": {},
   "outputs": [
    {
     "data": {
      "text/plain": [
       "4.0"
      ]
     },
     "execution_count": 58,
     "metadata": {},
     "output_type": "execute_result"
    }
   ],
   "source": [
    "# E da segunda linha\n",
    "dados[1].mean()"
   ]
  },
  {
   "cell_type": "code",
   "execution_count": 59,
   "id": "59608a50",
   "metadata": {},
   "outputs": [
    {
     "data": {
      "text/plain": [
       "2.5"
      ]
     },
     "execution_count": 59,
     "metadata": {},
     "output_type": "execute_result"
    }
   ],
   "source": [
    "# Verificando a mediana\n",
    "np.median(dados)"
   ]
  },
  {
   "cell_type": "markdown",
   "id": "dd50a89f",
   "metadata": {},
   "source": [
    "- Inclusive podemos fazer operação entre arrays"
   ]
  },
  {
   "cell_type": "code",
   "execution_count": 60,
   "id": "afb8c1e2",
   "metadata": {},
   "outputs": [],
   "source": [
    "# Considerando esses 2 arrays\n",
    "array1 = np.array([1,2,3,4,5])\n",
    "array2 = np.array([7,8,9,10,11])"
   ]
  },
  {
   "cell_type": "code",
   "execution_count": 61,
   "id": "3be9aaea",
   "metadata": {},
   "outputs": [
    {
     "data": {
      "text/plain": [
       "array([ 8, 10, 12, 14, 16])"
      ]
     },
     "execution_count": 61,
     "metadata": {},
     "output_type": "execute_result"
    }
   ],
   "source": [
    "# Somando os arrays\n",
    "array1 + array2"
   ]
  },
  {
   "cell_type": "code",
   "execution_count": 62,
   "id": "48c1f332",
   "metadata": {},
   "outputs": [
    {
     "data": {
      "text/plain": [
       "array([ 7, 16, 27, 40, 55])"
      ]
     },
     "execution_count": 62,
     "metadata": {},
     "output_type": "execute_result"
    }
   ],
   "source": [
    "# Multiplicando esses arrays\n",
    "array1*array2"
   ]
  },
  {
   "cell_type": "code",
   "execution_count": 63,
   "id": "9f2f5371",
   "metadata": {},
   "outputs": [
    {
     "data": {
      "text/plain": [
       "array([       1,      256,    19683,  1048576, 48828125])"
      ]
     },
     "execution_count": 63,
     "metadata": {},
     "output_type": "execute_result"
    }
   ],
   "source": [
    "# Potência\n",
    "array1**array2"
   ]
  }
 ],
 "metadata": {
  "kernelspec": {
   "display_name": "Python 3 (ipykernel)",
   "language": "python",
   "name": "python3"
  },
  "language_info": {
   "codemirror_mode": {
    "name": "ipython",
    "version": 3
   },
   "file_extension": ".py",
   "mimetype": "text/x-python",
   "name": "python",
   "nbconvert_exporter": "python",
   "pygments_lexer": "ipython3",
   "version": "3.11.4"
  }
 },
 "nbformat": 4,
 "nbformat_minor": 5
}
